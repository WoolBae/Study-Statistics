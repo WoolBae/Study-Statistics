{
 "cells": [
  {
   "cell_type": "markdown",
   "metadata": {},
   "source": [
    "## 확률변수"
   ]
  },
  {
   "cell_type": "markdown",
   "metadata": {},
   "source": [
    "일반적으로 확률을 가지고 발생하는 사상에 수치가 부여되는 변수를 말하며 일반적으로 X라고 표현한다."
   ]
  },
  {
   "cell_type": "markdown",
   "metadata": {},
   "source": [
    "## 확률모형"
   ]
  },
  {
   "cell_type": "markdown",
   "metadata": {},
   "source": [
    "확률모형이란 확률변수라는 것을 이용하여 데이터 분포를 수학적으로 정의하는 방법을 말한다. \n",
    "\n",
    "보통 확률 밀도 함수락 불리는 미리 정해진 함수의 수식을 사용한다. "
   ]
  },
  {
   "cell_type": "markdown",
   "metadata": {},
   "source": [
    "#### 이산확률변수"
   ]
  },
  {
   "cell_type": "markdown",
   "metadata": {},
   "source": [
    "확률변수 X가 취할 수 있는 값이 이산집합(원소의 개수를 셀수 있는 집합)일때 확률변수 X를 \n",
    "\n",
    "이산확률변수라고 한다. 이산확률변수는 확률질량함수를 이용해 정의한다.\n",
    "\n",
    "대표적인 이산확률변수로는 베르누이 확률변수, 이항확률변수, 기하변수, 푸아송변수 등을 들 수 있다.\n",
    "\n",
    "- 예를 들어 주사위의 X=  {1,2,3,4,5,6} 이라는 이산집합이다 즉 X는 이산확률변수이다."
   ]
  },
  {
   "cell_type": "code",
   "execution_count": 4,
   "metadata": {
    "collapsed": true
   },
   "outputs": [],
   "source": [
    "%matplotlib inline\n",
    "import pandas as pd\n",
    "import numpy as np\n",
    "import matplotlib.pyplot as plt\n",
    "import seaborn as sns"
   ]
  },
  {
   "cell_type": "code",
   "execution_count": 2,
   "metadata": {},
   "outputs": [],
   "source": [
    "x = {1:1/6,2:1/6,3:1/6,4:1/6,5:1/6,6:1/6}"
   ]
  },
  {
   "cell_type": "code",
   "execution_count": 11,
   "metadata": {},
   "outputs": [],
   "source": [
    "x = pd.DataFrame.from_dict(x,orient='index' )"
   ]
  },
  {
   "cell_type": "code",
   "execution_count": 13,
   "metadata": {},
   "outputs": [],
   "source": [
    "x = x.reset_index()"
   ]
  },
  {
   "cell_type": "code",
   "execution_count": 15,
   "metadata": {},
   "outputs": [],
   "source": [
    "x.columns=['variable','probability']"
   ]
  },
  {
   "cell_type": "code",
   "execution_count": 16,
   "metadata": {},
   "outputs": [
    {
     "data": {
      "text/plain": [
       "<matplotlib.axes._subplots.AxesSubplot at 0x2d37e31b2b0>"
      ]
     },
     "execution_count": 16,
     "metadata": {},
     "output_type": "execute_result"
    },
    {
     "data": {
      "image/png": "[encoded data removed]",
      "text/plain": [
       "<matplotlib.figure.Figure at 0x2d37e323dd8>"
      ]
     },
     "metadata": {},
     "output_type": "display_data"
    }
   ],
   "source": [
    "#확률질량함수\n",
    "sns.barplot(x['variable'],x['probability'])"
   ]
  },
  {
   "cell_type": "markdown",
   "metadata": {},
   "source": [
    "#### 연속확률변수"
   ]
  },
  {
   "cell_type": "markdown",
   "metadata": {},
   "source": [
    "임의로 선택한 사람의 키나 어느 지역의 연간 강수량과 같은 확률변수는 연속된 실수 구간의 값을 취할 수 있는데 이런 확률변수를 연속활률변수라고 한다.\n",
    "\n",
    "연속확률변수 X의 확률분포는 대개 확률밀도함수를 이용하여 정의한다."
   ]
  },
  {
   "cell_type": "code",
   "execution_count": 17,
   "metadata": {
    "collapsed": true
   },
   "outputs": [],
   "source": [
    "import scipy as sp"
   ]
  },
  {
   "cell_type": "code",
   "execution_count": 18,
   "metadata": {
    "collapsed": true
   },
   "outputs": [],
   "source": [
    "#평균 160 표준편차 5인 정규분포 생성\n",
    "np.random.seed(0)\n",
    "mu = 160\n",
    "std = 5\n",
    "rv = sp.stats.norm(mu,std)"
   ]
  },
  {
   "cell_type": "code",
   "execution_count": 20,
   "metadata": {},
   "outputs": [
    {
     "data": {
      "text/plain": [
       "[<matplotlib.lines.Line2D at 0x2d37ea66518>]"
      ]
     },
     "execution_count": 20,
     "metadata": {},
     "output_type": "execute_result"
    },
    {
     "data": {
      "image/png": "[encoded data removed]",
      "text/plain": [
       "<matplotlib.figure.Figure at 0x2d37e99d8d0>"
      ]
     },
     "metadata": {},
     "output_type": "display_data"
    }
   ],
   "source": [
    "xx = np.linspace(140,180,100)\n",
    "plt.plot(xx,rv.pdf(xx))"
   ]
  },
  {
   "cell_type": "code",
   "execution_count": null,
   "metadata": {
    "collapsed": true
   },
   "outputs": [],
   "source": []
  }
 ],
 "metadata": {
  "kernelspec": {
   "display_name": "Python 3",
   "language": "python",
   "name": "python3"
  },
  "language_info": {
   "codemirror_mode": {
    "name": "ipython",
    "version": 3
   },
   "file_extension": ".py",
   "mimetype": "text/x-python",
   "name": "python",
   "nbconvert_exporter": "python",
   "pygments_lexer": "ipython3",
   "version": "3.6.3"
  }
 },
 "nbformat": 4,
 "nbformat_minor": 2
}
