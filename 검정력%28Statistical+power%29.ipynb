{
 "cells": [
  {
   "cell_type": "markdown",
   "metadata": {},
   "source": [
    "# 검정력(Statistical power)"
   ]
  },
  {
   "cell_type": "markdown",
   "metadata": {},
   "source": [
    "검정력(Statistical power)은 대립가설이 사실일 때, 이를 사실로서 결정할 확률이다.\n",
    "\n",
    "검정력이 90%라고 하면, 대립가설이 하의 a = a1에서 귀무사설을 기각시킬 확률을 a = a1에서 검정력이라고 한다.\n",
    "\n",
    "검정력이 좋아지게 되면 2종오류를 범할 확률은 작아지게 된다."
   ]
  },
  {
   "cell_type": "markdown",
   "metadata": {},
   "source": [
    "## 검정력의 영향요소"
   ]
  },
  {
   "cell_type": "markdown",
   "metadata": {},
   "source": [
    "- 유의수준(1종오류): 유의수준이 커질수록( 5% -> 10% ), 즉 신뢰도가 나빠질수록 검정력은 좋아진다.\n",
    "- 표준편차: 표준펀차가 커지면 검정력이 나빠진다. \n",
    "- 두 모집단 간의 차이: 이 차이가 작을수록 검정력은 나빠진다.\n",
    "- 표본크기: 표본크기가 클수록 검정력은 증가한다."
   ]
  },
  {
   "cell_type": "markdown",
   "metadata": {},
   "source": [
    "### 1종 오류"
   ]
  },
  {
   "cell_type": "markdown",
   "metadata": {},
   "source": [
    "귀무가설이 참인데 기각하면 제1종 오류를 범하는 것이다.\n",
    "1종 오류를 범할 확률은 a로 가설검정에 대해 설정한 유의수준이다. a가  0.05이면 귀무 가설을 잘못 기각할 가능성이 5%임을 인정하는 것이다. "
   ]
  },
  {
   "cell_type": "markdown",
   "metadata": {},
   "source": [
    "### 2종 오류"
   ]
  },
  {
   "cell_type": "markdown",
   "metadata": {},
   "source": [
    "귀무가설이 거짓인데 기각하지 않으면 제2종 오류를 범하는 것이다. "
   ]
  },
  {
   "cell_type": "code",
   "execution_count": null,
   "metadata": {
    "collapsed": true
   },
   "outputs": [],
   "source": []
  }
 ],
 "metadata": {
  "kernelspec": {
   "display_name": "Python 3",
   "language": "python",
   "name": "python3"
  },
  "language_info": {
   "codemirror_mode": {
    "name": "ipython",
    "version": 3
   },
   "file_extension": ".py",
   "mimetype": "text/x-python",
   "name": "python",
   "nbconvert_exporter": "python",
   "pygments_lexer": "ipython3",
   "version": "3.6.3"
  }
 },
 "nbformat": 4,
 "nbformat_minor": 2
}
