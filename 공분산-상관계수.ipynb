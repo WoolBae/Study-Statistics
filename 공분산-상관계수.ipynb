{
 "cells": [
  {
   "cell_type": "markdown",
   "metadata": {},
   "source": [
    "# 공분산(Covariance)"
   ]
  },
  {
   "cell_type": "markdown",
   "metadata": {},
   "source": [
    "공분산은 2개의 확률변수의 상관정도를 나타내는 값이다.\n",
    "\n",
    "2개의 변수중 하나의 값이 상승할 때, 다른 하나의 값이 상승하는 경향이 보일 때\n",
    "\n",
    "공분산은 양수 반대의 경우 음수를 나타낸다."
   ]
  },
  {
   "cell_type": "markdown",
   "metadata": {},
   "source": [
    "$$공분산 공식$$\n",
    "$$ s_{xy} = \\dfrac{1}{N}\\sum_{i=1}^{N} (x_i-m_x)(y_i-m_y) $$"
   ]
  },
  {
   "cell_type": "markdown",
   "metadata": {},
   "source": [
    "이렇게 공분산은 상관관계의 상승 혹은 하강하는 경향을 이해할 수 있으나 \n",
    "\n",
    "2개 변수의 측정 단위의 크기에 따라 값이 달라지므로 상관분석을 통해 정도를 파악하기에는 부적절하다."
   ]
  },
  {
   "cell_type": "code",
   "execution_count": 1,
   "metadata": {
    "collapsed": true
   },
   "outputs": [],
   "source": [
    "import numpy as np"
   ]
  },
  {
   "cell_type": "code",
   "execution_count": 12,
   "metadata": {},
   "outputs": [
    {
     "data": {
      "text/plain": [
       "21.448687445943445"
      ]
     },
     "execution_count": 12,
     "metadata": {},
     "output_type": "execute_result"
    }
   ],
   "source": [
    "#10단위\n",
    "x = np.random.uniform(low=10,high=30,size=10)\n",
    "y = np.random.uniform(low=-30, high=-10,size=10)\n",
    "np.cov(x,y).mean()"
   ]
  },
  {
   "cell_type": "code",
   "execution_count": 13,
   "metadata": {},
   "outputs": [
    {
     "data": {
      "text/plain": [
       "1897.392470633257"
      ]
     },
     "execution_count": 13,
     "metadata": {},
     "output_type": "execute_result"
    }
   ],
   "source": [
    "#100단위\n",
    "x = np.random.uniform(low=100,high=300,size=10)\n",
    "y = np.random.uniform(low=-300, high=-100,size=10)\n",
    "np.cov(x,y).mean()"
   ]
  },
  {
   "cell_type": "markdown",
   "metadata": {},
   "source": [
    "# 상관계수(Correlation coefficient)"
   ]
  },
  {
   "cell_type": "markdown",
   "metadata": {},
   "source": [
    "위와 같이 측정 단위의 크기에 따라 밧이 달라지므로 상관분석을 하기가 힘들다.\n",
    "\n",
    "이러한 이유 때문에 공분산을 정규화하여 그 결과를 -1 ~ 1로 나오게 하는 것을 \n",
    "\n",
    "상관계수라고 한다."
   ]
  },
  {
   "cell_type": "markdown",
   "metadata": {},
   "source": [
    "$$상관계수 공식$$\n",
    "\n",
    "$$ \\rho[X,Y] =  \\dfrac{\\text{Cov}[X, Y]}{\\sqrt{\\text{Var}[X] \\cdot \\text{Var}[Y]}} $$"
   ]
  },
  {
   "cell_type": "code",
   "execution_count": 15,
   "metadata": {},
   "outputs": [
    {
     "data": {
      "text/plain": [
       "0.5073600024215985"
      ]
     },
     "execution_count": 15,
     "metadata": {},
     "output_type": "execute_result"
    }
   ],
   "source": [
    "#상관계수를 사용하면 -1 ~ 1 사이의 값으로 정의된다.\n",
    "np.corrcoef(x,y).mean()"
   ]
  },
  {
   "cell_type": "code",
   "execution_count": null,
   "metadata": {
    "collapsed": true
   },
   "outputs": [],
   "source": []
  }
 ],
 "metadata": {
  "kernelspec": {
   "display_name": "Python 3",
   "language": "python",
   "name": "python3"
  },
  "language_info": {
   "codemirror_mode": {
    "name": "ipython",
    "version": 3
   },
   "file_extension": ".py",
   "mimetype": "text/x-python",
   "name": "python",
   "nbconvert_exporter": "python",
   "pygments_lexer": "ipython3",
   "version": "3.6.3"
  }
 },
 "nbformat": 4,
 "nbformat_minor": 2
}
