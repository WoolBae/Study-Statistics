{
 "cells": [
  {
   "cell_type": "markdown",
   "metadata": {},
   "source": [
    "# 모수적 비모수적 통계검정"
   ]
  },
  {
   "cell_type": "markdown",
   "metadata": {},
   "source": [
    "### 모수적 통계검정"
   ]
  },
  {
   "cell_type": "markdown",
   "metadata": {},
   "source": [
    "추리 통계에서 모집단의 특성인 모수(Parmeter)에 대한 추리를 할 때, 모집단의 분포에 대한 \n",
    "\n",
    "가정을 포함하는 방법이다. 대부분의 모집단의 분포는 정규분포를 가정한다.\n",
    "\n",
    "모수적 통계검정으로는 F검정, t검정, 정상분포에 대한 z검증이 있다.\n",
    "\n"
   ]
  },
  {
   "cell_type": "markdown",
   "metadata": {},
   "source": [
    "_ _"
   ]
  },
  {
   "cell_type": "markdown",
   "metadata": {},
   "source": [
    "### 비모수적 통계검정"
   ]
  },
  {
   "cell_type": "markdown",
   "metadata": {},
   "source": [
    "비모수적 통계검정은 모수집단의 분포에 대한 가정을 포함하지 않는 방법이다.\n",
    "\n",
    "즉 집단의 분포가 특정분포를 따른다고 보기가 어려운 경우, 자료가 구간척도나 비율척도 등으로 \n",
    "\n",
    "주어지지 않고 순위척도(ordunal scale)로 주어져서, 상대적인 크기로 데이터가 주어질 경우, 또는 분포의 형태에 대해 전혀 가정이 불가능할 경우를 \n",
    "\n",
    "비모수적 통계검정을 사용한다..\n",
    "\n"
   ]
  },
  {
   "cell_type": "markdown",
   "metadata": {},
   "source": [
    "##### 간단한 정리"
   ]
  },
  {
   "cell_type": "markdown",
   "metadata": {},
   "source": [
    "##### 명목척도(nominal scale) : 예를 들어 가톨릭교:0, 기독교:1, 유대교:2, 기타:3  붙이는 것은 명목척도이다. 절대적순서가 없다.\n",
    "\n",
    "###### 순서척도(Rank scale) :  초등학고:0, 중학교:1, 고등학교:2, 대학교:3 으로 표현"
   ]
  },
  {
   "cell_type": "markdown",
   "metadata": {},
   "source": [
    "- 모집단이 정규푼포를 따르지 않는 경우\n",
    "- 종속벽수가 연속변수 인데 Sample Size가 작아(30개이하) 모단에 대해 어떤 분포도 가정할 수 없는 경우 \n",
    "- 종속변수가 순위변수 또는 명목변수 인 경우에는 모집단에 대해 모수가 있는 정규분포를 가정할수 없고 모집단에 관계없이 주어진 Sample의 자료만으로 검정하는 것"
   ]
  },
  {
   "cell_type": "markdown",
   "metadata": {},
   "source": [
    "___ _"
   ]
  },
  {
   "cell_type": "markdown",
   "metadata": {},
   "source": [
    "### 모수적 모델과 비모수적 모델"
   ]
  },
  {
   "cell_type": "markdown",
   "metadata": {},
   "source": [
    "#### 모수적 모델: 회귀모델, 로지스틱회귀모델, 1차/2차 판별모델\n",
    "\n",
    "#### 비모수적 모델: 의사결정나무, 랜덤포레스트, KNN"
   ]
  },
  {
   "cell_type": "code",
   "execution_count": null,
   "metadata": {
    "collapsed": true
   },
   "outputs": [],
   "source": []
  }
 ],
 "metadata": {
  "kernelspec": {
   "display_name": "Python 3",
   "language": "python",
   "name": "python3"
  },
  "language_info": {
   "codemirror_mode": {
    "name": "ipython",
    "version": 3
   },
   "file_extension": ".py",
   "mimetype": "text/x-python",
   "name": "python",
   "nbconvert_exporter": "python",
   "pygments_lexer": "ipython3",
   "version": "3.6.3"
  }
 },
 "nbformat": 4,
 "nbformat_minor": 2
}
