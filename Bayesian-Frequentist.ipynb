{
 "cells": [
  {
   "cell_type": "markdown",
   "metadata": {},
   "source": [
    "# Bayesian 과 Frequentist의 입장차이"
   ]
  },
  {
   "cell_type": "markdown",
   "metadata": {},
   "source": [
    "확률은 객관적으로 발생하는 현상의 빈도수에 대해서 기술하는 객관적 확률(Frequentist)과\n",
    "\n",
    "현상에 대한 관찰을 기반으로 한 주관적 확률로 구분된다(Bayesian)"
   ]
  },
  {
   "cell_type": "markdown",
   "metadata": {},
   "source": [
    "## 예시"
   ]
  },
  {
   "cell_type": "markdown",
   "metadata": {},
   "source": [
    " Fair한 6면의 주사위가 하나 있을때, 이 주사위를 던져서 1의 눈이 나올 확률은?"
   ]
  },
  {
   "cell_type": "markdown",
   "metadata": {},
   "source": [
    "##### Frequentist"
   ]
  },
  {
   "cell_type": "markdown",
   "metadata": {},
   "source": [
    "1/6(주사위는 Fair하므로 6개의 경우들은 모두 같은 빈도로 발생할 것이다.)"
   ]
  },
  {
   "cell_type": "markdown",
   "metadata": {},
   "source": [
    "##### Bayesian"
   ]
  },
  {
   "cell_type": "markdown",
   "metadata": {},
   "source": [
    "- 1의 눈이 나올 확률은 0과 1사이의 임의의 값이다.임의로 1/10이라 간주한다.(사전확률)\n",
    "- 이 주사위를 실제로 6000번 던졌더니 그 중 992번이 1이나옴 (사건)\n",
    "- 데이터가 있으므로 새로운 데이터를 이용해서 사전확률을 수정 992/6000(사후확률)"
   ]
  },
  {
   "cell_type": "markdown",
   "metadata": {},
   "source": [
    "_ _"
   ]
  },
  {
   "cell_type": "markdown",
   "metadata": {},
   "source": [
    "Frequentist들은 992/6000이 1/6에 매우 근접하므로 이 데이터는 1의 눈이 나올 확률이 1/6이라 생각한다. 즉 frequentist들에게는 참된 확률이 존재한다는 것이다.\n",
    "\n",
    "반면 Bayesian은 1의 눈이 나올 확률이 어떤 확률분포를 가지고 있다고 생각한다. 즉 확률값의 참된 분포는 있지만 참된 확률값이란 없는 것이다.\n",
    "따라서 Bayesian은 데이터를 얻기 전에 분포에 대한 사전확률분포를 가지고 있는 것이다. 여기에 데이터가 발생하면 update를 통해서 사후확률을 만든다.\n",
    "\n"
   ]
  },
  {
   "cell_type": "code",
   "execution_count": null,
   "metadata": {
    "collapsed": true
   },
   "outputs": [],
   "source": []
  }
 ],
 "metadata": {
  "kernelspec": {
   "display_name": "Python 3",
   "language": "python",
   "name": "python3"
  },
  "language_info": {
   "codemirror_mode": {
    "name": "ipython",
    "version": 3
   },
   "file_extension": ".py",
   "mimetype": "text/x-python",
   "name": "python",
   "nbconvert_exporter": "python",
   "pygments_lexer": "ipython3",
   "version": "3.6.3"
  }
 },
 "nbformat": 4,
 "nbformat_minor": 2
}
